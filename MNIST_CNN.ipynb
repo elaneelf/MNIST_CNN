{
  "nbformat": 4,
  "nbformat_minor": 0,
  "metadata": {
    "colab": {
      "name": "MNIST_CNN.ipynb",
      "provenance": []
    },
    "kernelspec": {
      "name": "python3",
      "display_name": "Python 3"
    },
    "language_info": {
      "name": "python"
    },
    "accelerator": "GPU"
  },
  "cells": [
    {
      "cell_type": "code",
      "metadata": {
        "id": "OM5cONSFi-th"
      },
      "source": [
        "import torch\n",
        "import torch.nn as nn\n",
        "import torch.nn.functional as F\n",
        "import torch.optim as optim\n",
        "from torchvision import transforms, datasets\n"
      ],
      "execution_count": 2,
      "outputs": []
    },
    {
      "cell_type": "code",
      "metadata": {
        "id": "d17RwxjWj7mY"
      },
      "source": [
        "# Introduce MNIST dataset, and train, test set respectively\n",
        "trainset = datasets.MNIST('', train=True, download=True, transform=transforms.Compose([transforms.ToTensor()]))\n",
        "testset = datasets.MNIST('', train=False, download=True, transform=transforms.Compose([transforms.ToTensor()]))\n",
        "\n",
        "# Slice the dataset into batch(batch_size)\n",
        "trainloader = torch.utils.data.DataLoader(trainset, batch_size=100, shuffle=True, pin_memory=True)\n",
        "testloader = torch.utils.data.DataLoader(testset, batch_size=100, shuffle=True, pin_memory=True)"
      ],
      "execution_count": 9,
      "outputs": []
    },
    {
      "cell_type": "code",
      "metadata": {
        "id": "pX9BQh3xk1vp"
      },
      "source": [
        "# Build the Neural Network(fully connected layer)\n",
        "class Model(nn.Module):\n",
        "  def __init__(self):\n",
        "    super().__init__()\n",
        "    # convolution layers\n",
        "    self.conv1 = nn.Conv2d(1, 64, 5) # input channel=1, output channel=64, kernel size=5\n",
        "    self.pool = nn.MaxPool2d(2, 2)\n",
        "    self.conv2 = nn.Conv2d(64, 32, 5)\n",
        "    # fully connected layers\n",
        "    self.fc1 = nn.Linear(32*4*4, 128) # 32 channels, 4 * 4 size\n",
        "    self.fc2 = nn.Linear(128, 64)\n",
        "    self.fc3 = nn.Linear(64, 64)\n",
        "    self.fc4 = nn.Linear(64, 64)\n",
        "\n",
        "  def forward(self, x):\n",
        "    # state size: 28*28(input image size)\n",
        "    x = self.pool(F.relu(self.conv1(x)))\n",
        "    # state size: 12*12\n",
        "    x = self.pool(F.relu(self.conv2(x)))\n",
        "    # state size: 4*4\n",
        "    x = x.view(-1, 32*4*4)\n",
        "    x = F.relu(self.fc1(x))\n",
        "    x = F.relu(self.fc2(x))\n",
        "    x = F.relu(self.fc3(x))\n",
        "    x = self.fc4(x)\n",
        "\n",
        "    return F.log_softmax(x, dim=1)\n",
        "\n"
      ],
      "execution_count": 4,
      "outputs": []
    },
    {
      "cell_type": "code",
      "metadata": {
        "colab": {
          "base_uri": "https://localhost:8080/"
        },
        "id": "m3GljE6bqwr3",
        "outputId": "56d332c7-7254-496d-afce-e4f5a5232ffb"
      },
      "source": [
        "# Initialize model\n",
        "model = Model()\n",
        "# Create a Adam optimizer\n",
        "optimizer = optim.Adam(model.parameters(), lr=0.001)\n",
        "\n",
        "model.train()\n",
        "epochs = 5\n",
        "for epoch in range(epochs):\n",
        "  running_loss = 0.0\n",
        "  for i, data in enumerate(trainloader):\n",
        "    X, y = data\n",
        "\n",
        "    # Training process\n",
        "    # clear the gradient from aggregating everytime after we update parameters\n",
        "    optimizer.zero_grad()\n",
        "    # put the mini-batch training data into Neural Network, and get the predicted labels\n",
        "    predicted = model(X)\n",
        "    # compare the predicted labels with ground-truth labels\n",
        "    loss = F.nll_loss(predicted, y)\n",
        "    # compute the gradient\n",
        "    loss.backward()\n",
        "    # optimize the network\n",
        "    optimizer.step()\n",
        "    running_loss += loss.item()\n",
        "    # print every 1000 mini-batches\n",
        "    if i % 100 == 99:\n",
        "      print('[%d, %5d] loss: %.3f' %(epoch + 1, i + 1, running_loss/100))\n",
        "      running_loss = 0.0\n"
      ],
      "execution_count": 5,
      "outputs": [
        {
          "output_type": "stream",
          "text": [
            "[1,   100] loss: 1.960\n",
            "[1,   200] loss: 0.457\n",
            "[1,   300] loss: 0.223\n",
            "[1,   400] loss: 0.157\n",
            "[1,   500] loss: 0.134\n",
            "[1,   600] loss: 0.108\n",
            "[2,   100] loss: 0.095\n",
            "[2,   200] loss: 0.088\n",
            "[2,   300] loss: 0.079\n",
            "[2,   400] loss: 0.068\n",
            "[2,   500] loss: 0.072\n",
            "[2,   600] loss: 0.081\n",
            "[3,   100] loss: 0.055\n",
            "[3,   200] loss: 0.051\n",
            "[3,   300] loss: 0.063\n",
            "[3,   400] loss: 0.056\n",
            "[3,   500] loss: 0.053\n",
            "[3,   600] loss: 0.050\n",
            "[4,   100] loss: 0.043\n",
            "[4,   200] loss: 0.046\n",
            "[4,   300] loss: 0.040\n",
            "[4,   400] loss: 0.043\n",
            "[4,   500] loss: 0.049\n",
            "[4,   600] loss: 0.042\n",
            "[5,   100] loss: 0.030\n",
            "[5,   200] loss: 0.033\n",
            "[5,   300] loss: 0.044\n",
            "[5,   400] loss: 0.035\n",
            "[5,   500] loss: 0.034\n",
            "[5,   600] loss: 0.037\n"
          ],
          "name": "stdout"
        }
      ]
    },
    {
      "cell_type": "code",
      "metadata": {
        "id": "ts1ZoOU-tdfW",
        "colab": {
          "base_uri": "https://localhost:8080/"
        },
        "outputId": "7ae84375-a972-404b-e03b-6e852a54b438"
      },
      "source": [
        "# Evaluate Training set, Testing set by trained Neural Network\n",
        "model.eval()\n",
        "\n",
        "correct = 0\n",
        "total = 0\n",
        "with torch.no_grad():\n",
        "  for data in trainloader:\n",
        "    X, y = data\n",
        "    output = model(X)\n",
        "    correct += (torch.argmax(output, dim=1) == y).sum().item()\n",
        "    total += y.size(0)\n",
        "\n",
        "print(f'Training data Accuracy: {correct}/{total} = {round(correct/total, 3)}')\n",
        "\n",
        "correct = 0\n",
        "total = 0\n",
        "with torch.no_grad():\n",
        "  for data in testloader:\n",
        "    X, y = data\n",
        "    output = model(X)\n",
        "    correct += (torch.argmax(output, dim=1) == y).sum().item()\n",
        "    total += y.size(0)\n",
        "print(f'Testing data Accuracy: {correct}/{total} = {round(correct/total, 3)}')"
      ],
      "execution_count": 11,
      "outputs": [
        {
          "output_type": "stream",
          "text": [
            "Training data Accuracy: 59250/60000 = 0.988\n",
            "Testing data Accuracy: 9860/10000 = 0.986\n"
          ],
          "name": "stdout"
        }
      ]
    },
    {
      "cell_type": "code",
      "metadata": {
        "id": "1bwQJrlhEBhs"
      },
      "source": [
        ""
      ],
      "execution_count": null,
      "outputs": []
    }
  ]
}